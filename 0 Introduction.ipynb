{
 "cells": [
  {
   "cell_type": "markdown",
   "metadata": {
    "slideshow": {
     "slide_type": "slide"
    }
   },
   "source": [
    "# Introduction to Julia: general intro\n",
    "\n",
    "\n",
    "Ispra, 2017\n",
    "\n",
    "Pablo Winant\n",
    "\n",
    "Text with equation $\\sqrt{x^2+1}$"
   ]
  },
  {
   "cell_type": "code",
   "execution_count": 1,
   "metadata": {
    "slideshow": {
     "slide_type": "fragment"
    }
   },
   "outputs": [
    {
     "data": {
      "text/plain": [
       "3"
      ]
     },
     "execution_count": 1,
     "metadata": {},
     "output_type": "execute_result"
    }
   ],
   "source": [
    "a = 3"
   ]
  },
  {
   "cell_type": "code",
   "execution_count": 4,
   "metadata": {},
   "outputs": [
    {
     "name": "stderr",
     "output_type": "stream",
     "text": [
      "\u001b[1m\u001b[36mINFO: \u001b[39m\u001b[22m\u001b[36mRecompiling stale cache file /home/pablo/.julia/lib/v0.6/Plots.ji for module Plots.\n",
      "\u001b[39m"
     ]
    }
   ],
   "source": [
    "using Plots"
   ]
  },
  {
   "cell_type": "markdown",
   "metadata": {
    "slideshow": {
     "slide_type": "subslide"
    }
   },
   "source": [
    "## What is Julia\n",
    "\n",
    "- developped at MIT on top of opensource technologies\n",
    "    - linux / git / llvm\n",
    "- syntax inspired by Matlab but:\n",
    "    - more consistent\n",
    "    - lots of features from high level languages\n",
    "- everything is JIT-compiled\n",
    "    - interpreted vs compiled treadeoff\n",
    "    - -> very fast\n",
    "    - most of the base library is written in Julia\n",
    "- opensource/free + vibrant community"
   ]
  },
  {
   "cell_type": "markdown",
   "metadata": {
    "slideshow": {
     "slide_type": "subslide"
    }
   },
   "source": [
    "### Do it in the open !\n",
    "\n",
    "- Many excellent online resources:\n",
    "\n",
    "    - [Software Carpentry](https://software-carpentry.org/)\n",
    "    - [QuantEcon](https://quantecon.org/) from Tom Sargent and John Stachurski\n",
    "    - [Julia manuals/tutorials](https://julialang.org/learning/)\n",
    "    \n",
    "    \n",
    "- Opensource community is very welcoming:\n",
    "\n",
    "    - ask on mailing lists or online chats (Julia users, quantecon, dynare, ...)\n",
    "    - open issues (for instance against Dolo (https://github.com/EconForge/Dolo.jl/issues)[https://github.com/EconForge/Dolo.jl/issues]\n",
    "    - participating is also a great occasion to learn"
   ]
  },
  {
   "cell_type": "markdown",
   "metadata": {
    "slideshow": {
     "slide_type": "subslide"
    }
   },
   "source": [
    "### graph about adoption of software since the introduction of Github\n",
    "\n",
    "![](gh.png)"
   ]
  },
  {
   "cell_type": "markdown",
   "metadata": {
    "slideshow": {
     "slide_type": "subslide"
    }
   },
   "source": [
    "# Plan for the course (1)\n",
    "\n",
    "Very flexible, depending on interests.\n",
    "\n",
    "Three *lectures*:\n",
    "\n",
    "- Basics:\n",
    "    - working environment\n",
    "    - types: integer, floats, strings, arrays\n",
    "    - syntax (variables, functions, control flow)\n",
    "    - composite types\n",
    "    - methods and multiple dispatch\n",
    "    - macros"
   ]
  },
  {
   "cell_type": "markdown",
   "metadata": {
    "slideshow": {
     "slide_type": "subslide"
    }
   },
   "source": [
    "# Plan for the course (2)\n",
    "\n",
    "Very flexible, depending on interests.\n",
    "\n",
    "Three *lectures*:\n",
    "\n",
    "- Libraries\n",
    "    - statistics\n",
    "    - plotting\n",
    "    - optimization\n",
    "    - symbolic\n",
    "    - modeling\n",
    "    "
   ]
  },
  {
   "cell_type": "markdown",
   "metadata": {
    "slideshow": {
     "slide_type": "subslide"
    }
   },
   "source": [
    "# Plan for the course (3)\n",
    "\n",
    "Very flexible, depending on interests.\n",
    "\n",
    "Three *lectures*:\n",
    "\n",
    "- Advanced concepts\n",
    "    - packaging\n",
    "    - type system: constructors, parametric types, inheritance\n",
    "    - profiling and performance tricks\n",
    "    - meta-programming\n",
    "    - ..."
   ]
  },
  {
   "cell_type": "markdown",
   "metadata": {
    "collapsed": true,
    "slideshow": {
     "slide_type": "subslide"
    }
   },
   "source": [
    "# Plan (4)\n",
    "\n"
   ]
  },
  {
   "cell_type": "code",
   "execution_count": 2,
   "metadata": {},
   "outputs": [
    {
     "ename": "LoadError",
     "evalue": "\u001b[91msyntax: extra token \"matplotlib\" after end of expression\u001b[39m",
     "output_type": "error",
     "traceback": [
      "\u001b[91msyntax: extra token \"matplotlib\" after end of expression\u001b[39m",
      "",
      "Stacktrace:",
      " [1] \u001b[1minclude_string\u001b[22m\u001b[22m\u001b[1m(\u001b[22m\u001b[22m::String, ::String\u001b[1m)\u001b[22m\u001b[22m at \u001b[1m./loading.jl:515\u001b[22m\u001b[22m"
     ]
    }
   ],
   "source": []
  }
 ],
 "metadata": {
  "celltoolbar": "Slideshow",
  "kernelspec": {
   "display_name": "Julia 0.6.0",
   "language": "julia",
   "name": "julia-0.6"
  },
  "language_info": {
   "file_extension": ".jl",
   "mimetype": "application/julia",
   "name": "julia",
   "version": "0.6.0"
  },
  "toc": {
   "nav_menu": {
    "height": "64px",
    "width": "252px"
   },
   "number_sections": true,
   "sideBar": true,
   "skip_h1_title": false,
   "toc_cell": false,
   "toc_position": {},
   "toc_section_display": "block",
   "toc_window_display": false
  }
 },
 "nbformat": 4,
 "nbformat_minor": 2
}
