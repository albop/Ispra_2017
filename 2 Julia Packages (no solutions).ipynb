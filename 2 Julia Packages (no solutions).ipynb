{
 "cells": [
  {
   "cell_type": "markdown",
   "metadata": {},
   "source": [
    "# Introduction to Julia: packages\n",
    "\n",
    "Ispra, 2017\n",
    "\n",
    "Pablo Winant"
   ]
  },
  {
   "cell_type": "markdown",
   "metadata": {
    "collapsed": true
   },
   "source": [
    "# Julia Packages\n",
    "The goal of this notebook is to quickly introduce Julia packages, useful to modelers."
   ]
  },
  {
   "cell_type": "markdown",
   "metadata": {},
   "source": [
    "## Packages\n",
    "\n",
    "Huge ecosystem: http://pkg.julialang.org/pulse.html\n",
    "\n",
    "Based on Git/Github:\n",
    "\n",
    "- packages are repositories\n",
    "- a package = module + files + scripts\n",
    "\n",
    "Three types of packages:\n",
    "\n",
    "- shipped (in [JuliaPro](http://juliacomputing.com/products/juliapro.html)) \n",
    "- registered (see [METADATA.jl](https://github.com/JuliaLang/METADATA.jl)): install with `Pkg.add()`\n",
    "- unregistered: install with  `Pkg.clone()\n",
    "\n",
    "Using a package:\n",
    "- `using Dolo`: imports all the exported functions\n",
    "- `import Dolo`: needs qualified access (`Dolo.time_iteration`)"
   ]
  },
  {
   "cell_type": "markdown",
   "metadata": {},
   "source": [
    "## A small list of useful packages:\n",
    "\n",
    "*nonlinear optimization / minimization*\n",
    "\n",
    "- Roots\n",
    "- Optim\n",
    "- NLSolve (*)\n",
    "\n",
    "*interpolation*\n",
    "\n",
    "- Interpolations (*)\n",
    "- BasisMatrices (*)\n",
    "\n",
    "*Statistics*\n",
    "\n",
    "- DataFrames\n",
    "- Distributions\n",
    "- GLM\n",
    "- MultivariateStats (*)\n",
    "\n",
    "*Plotting libraries*\n",
    "\n",
    "- Gadfly\n",
    "- PyPlot\n",
    "- Plots (*)\n",
    "- Plotly / PlotlyJS (*)\n",
    "\n",
    "*Formal calculation*\n",
    "\n",
    "- Calculus\n",
    "- SymEngine\n",
    "- ForwardDiff (*)\n",
    "\n",
    "*Modeling*\n",
    "- Dolang (**)\n",
    "- Dolo (**)\n",
    "- Dyno (**)\n",
    "\n",
    "See [ucidatascienceinitiative](http://ucidatascienceinitiative.github.io/IntroToJulia/) for a more data-oriented introduction."
   ]
  },
  {
   "cell_type": "markdown",
   "metadata": {},
   "source": [
    "## Juno\n",
    "\n",
    "Atom-based Julia IDE\n",
    "\n",
    "- atom features: \n",
    "\n",
    "    - command palette (ctrl+shift+p), multiple cursors, plugins\n",
    "    \n",
    "- juno features:\n",
    "\n",
    "    - enable workspace (default layout)\n",
    "    - julia console (command line integration)\n",
    "    - progressbar\n",
    "    - debugger"
   ]
  },
  {
   "cell_type": "markdown",
   "metadata": {},
   "source": [
    "### Exercise 1: basic package management\n",
    "\n",
    "- list all installed packages\n",
    "- find directory of installed packages\n",
    "- inspect content of package QuantEcon\n",
    "- install (or clone) Dolo.jl"
   ]
  },
  {
   "cell_type": "markdown",
   "metadata": {},
   "source": [
    "## Topic: statistics\n",
    "\n",
    "- Arrays and DataFrames:\n",
    "    - past and present: DataFrames\n",
    "    - future:???\n",
    "        - database oriented: DataTables ( [JuliaData](https://github.com/JuliaData) )\n",
    "        - labelled arrays: AxisArrays or NamedArrays (see [JuliaArrays](https://github.com/JuliaArrays?type=)\n",
    "- Satistics (see [JuliaStats](https://github.com/JuliaStats) )\n",
    "    - Distributions.jl\n",
    "    - StatsBase.jl\n",
    "    - RDatasets.jl\n",
    "    \n",
    "- Econometrics\n",
    "    - TimeSeries.jl\n",
    "    - GLM.jl\n",
    "    - Multivariate.jl"
   ]
  },
  {
   "cell_type": "markdown",
   "metadata": {},
   "source": [
    "### Exercise 2: a (tiny) bit of statistics\n",
    "\n",
    "- Create a simple random DataFrame with the following columns (N=100 observations):\n",
    "\n",
    "    - x and y random, z = 0.5*x + 0.5 y\n",
    "    - $x$ and $y$ correlated (use Distributions.jl)\n",
    "\n",
    "- Compute descriptive statistics\n",
    "\n",
    "(for those who have a good connection):\n",
    "\n",
    "- Load the LifeCycleSavings database from RData using RDatasets.jl.\n",
    "    \n",
    "    - use GLM.jl to regress SR on Pop15, Pop75, DPI, DDPI using OLS"
   ]
  },
  {
   "cell_type": "markdown",
   "metadata": {},
   "source": [
    "#### Solution\n"
   ]
  },
  {
   "cell_type": "code",
   "execution_count": null,
   "metadata": {
    "collapsed": true
   },
   "outputs": [],
   "source": []
  },
  {
   "cell_type": "markdown",
   "metadata": {},
   "source": [
    "## Topic: Plotting\n",
    "\n",
    "\n",
    "- PyPlot\n",
    "    - (transparent wrapper to Python's Matplotlib)\n",
    "    - very mature, publication-grade quality, even better with 2.0\n",
    "    - matlab-like interface\n",
    "- Gadfly\n",
    "    - native Julia\n",
    "    - grammar of graphics approach\n",
    "- Plotly/PlotlyJS\n",
    "    - very complete API\n",
    "    - produces interactive Javascript\n",
    "- Plots\n",
    "    - simple to use higher level api"
   ]
  },
  {
   "cell_type": "markdown",
   "metadata": {},
   "source": [
    "### Exercise 3: plotting\n",
    "\n",
    "Using PyPlot and/or Gadfly:\n",
    "\n",
    "- plot $f: x\\rightarrow \\frac{sin(\\epsilon + \\frac{a |x|}{\\pi})}{\\epsilon + \\frac{a |x|}{\\pi}}$ for different values of a on the same graph (with labels, titles, ...)\n",
    "- plot a contour plot for $g: x, y\\rightarrow \\frac{sin(\\frac{\\sqrt{x^2+y^2}}{\\pi})}{\\frac{\\sqrt{x^2+y^2}}{\\pi}}$\n",
    "\n",
    "- (optional): use Plotly or Plots\n",
    "- (optional 2):  make a 3d graph for $g(x,y)$ using Plotly"
   ]
  },
  {
   "cell_type": "markdown",
   "metadata": {},
   "source": [
    "#### Solution"
   ]
  },
  {
   "cell_type": "markdown",
   "metadata": {},
   "source": [
    "## Topic: Maximization/optimization\n",
    "\n",
    "Two big organizations:\n",
    "\n",
    "- JuliaOpt: many wrappers, being streamlined towards mathematical programming\n",
    "- JuliaNLsolve:\n",
    "    - Optim: maximization\n",
    "    - NLSolve: nonlinear solution\n",
    "- MathJulia:\n",
    "    - Roots: simple api for 1d functions\n",
    "\n",
    "Remark: the need to jit-compile repeated optimization call partly explains the non-intuitive interfaces."
   ]
  },
  {
   "cell_type": "markdown",
   "metadata": {},
   "source": [
    "### Exercise 3: maximization with Optim.jl\n",
    "\n",
    "- Use Optim to find the maximum of g, with initial point $x_0=[0.1, 0.1]$\n",
    "- Use Optim to find the maximum of g, with initial point $x_0=[1.1, 5.1]$"
   ]
  },
  {
   "cell_type": "markdown",
   "metadata": {},
   "source": [
    "#### Solution"
   ]
  },
  {
   "cell_type": "markdown",
   "metadata": {},
   "source": [
    "### Exercise 4: solving a nonlinear function with Rootls.jl and NLsolve.jl\n",
    "\n",
    "1. First, we would like to find the smallest root $x_0$ such that $f(x_0)=0$ using Roots.jl\n",
    "  - find the root $x_0$\n",
    "  - start from different initial points\n",
    "\n",
    "2. Now we look for some values $(x_0,y_0)$ such that $g(x_0, y_0)=0$ and $y_0=x_0^2$\n",
    "  - Define the function which computes the residuals\n",
    "  - Find a (many solutions) using NLsolve"
   ]
  },
  {
   "cell_type": "markdown",
   "metadata": {},
   "source": [
    "#### Solution\n",
    "\n",
    "Let's solve a 1-dimensional function using Roots."
   ]
  },
  {
   "cell_type": "code",
   "execution_count": null,
   "metadata": {
    "collapsed": true
   },
   "outputs": [],
   "source": []
  },
  {
   "cell_type": "markdown",
   "metadata": {},
   "source": [
    "Now let's solve $g$ using a nonlinear solver."
   ]
  },
  {
   "cell_type": "markdown",
   "metadata": {},
   "source": [
    "## Topic: Manipulating equations / models\n",
    "\n",
    "\n",
    "- Differentiating equations:\n",
    "\n",
    "  - calculus.jl\n",
    "  - symengine.jl (faster, c++ dependencies)\n",
    "  \n",
    "- Automatic differentiation (see [JuliaDiff](https://github.com/JuliaDiff):\n",
    "  \n",
    "  - forwardiff.jl\n",
    "\n",
    "- Dynamic/economic equations\n",
    "\n",
    "  - dolang\n",
    "      - equations with timing\n",
    "      - metaprogramming\n",
    "      - syntactic checks for model files"
   ]
  },
  {
   "cell_type": "markdown",
   "metadata": {},
   "source": [
    "### Calculus.jl\n",
    "\n",
    "We can also use Calculus.jl to perform symbolic differentiation."
   ]
  },
  {
   "cell_type": "code",
   "execution_count": 24,
   "metadata": {},
   "outputs": [
    {
     "data": {
      "text/plain": [
       "2-element Array{Any,1}:\n",
       " :(((((2x) * (0.5 / sqrt(x ^ 2 + y ^ 2))) * cos(epsilon + sqrt(x ^ 2 + y ^ 2))) * (epsilon + sqrt(x ^ 2 + y ^ 2)) - sin(epsilon + sqrt(x ^ 2 + y ^ 2)) * ((2x) * (0.5 / sqrt(x ^ 2 + y ^ 2)))) / (epsilon + sqrt(x ^ 2 + y ^ 2)) ^ 2)\n",
       " :(((((2y) * (0.5 / sqrt(x ^ 2 + y ^ 2))) * cos(epsilon + sqrt(x ^ 2 + y ^ 2))) * (epsilon + sqrt(x ^ 2 + y ^ 2)) - sin(epsilon + sqrt(x ^ 2 + y ^ 2)) * ((2y) * (0.5 / sqrt(x ^ 2 + y ^ 2)))) / (epsilon + sqrt(x ^ 2 + y ^ 2)) ^ 2)"
      ]
     },
     "execution_count": 24,
     "metadata": {},
     "output_type": "execute_result"
    }
   ],
   "source": [
    "import Calculus\n",
    "Calculus.differentiate(\"sin(epsilon + sqrt(x^2+y^2))/(epsilon + sqrt(x^2+y^2))\", [:x,:y])"
   ]
  },
  {
   "cell_type": "code",
   "execution_count": 25,
   "metadata": {},
   "outputs": [
    {
     "data": {
      "text/plain": [
       "jacobian! (generic function with 1 method)"
      ]
     },
     "execution_count": 25,
     "metadata": {},
     "output_type": "execute_result"
    }
   ],
   "source": [
    "function residual!(z, res)\n",
    "    epsilon = 0.0001\n",
    "    x = z[1]\n",
    "    y = z[2]\n",
    "    res[1] = sin(epsilon + sqrt(x^2+y^2))/(epsilon + sqrt(x^2+y^2))\n",
    "    res[2] = (y - x^2)\n",
    "    return res\n",
    "end\n",
    "# we copy/paste:\n",
    "function jacobian!(z, res)\n",
    "    epsilon = 0.0001\n",
    "#     res = zeros(2,2)\n",
    "    x = z[1]\n",
    "    y = z[2]\n",
    "    res[1,1] = (((((2x) * (0.5 / sqrt(x ^ 2 + y ^ 2))) * cos(epsilon + sqrt(x ^ 2 + y ^ 2))) * (epsilon + sqrt(x ^ 2 + y ^ 2)) - sin(epsilon + sqrt(x ^ 2 + y ^ 2)) * ((2x) * (0.5 / sqrt(x ^ 2 + y ^ 2)))) / (epsilon + sqrt(x ^ 2 + y ^ 2)) ^ 2)\n",
    "    res[1,2] = (((((2y) * (0.5 / sqrt(x ^ 2 + y ^ 2))) * cos(epsilon + sqrt(x ^ 2 + y ^ 2))) * (epsilon + sqrt(x ^ 2 + y ^ 2)) - sin(epsilon + sqrt(x ^ 2 + y ^ 2)) * ((2y) * (0.5 / sqrt(x ^ 2 + y ^ 2)))) / (epsilon + sqrt(x ^ 2 + y ^ 2)) ^ 2)\n",
    "    res[2,1] = -2.0*x\n",
    "    res[2,2] = 1.0\n",
    "end"
   ]
  },
  {
   "cell_type": "code",
   "execution_count": 26,
   "metadata": {},
   "outputs": [
    {
     "data": {
      "text/plain": [
       "Results of Nonlinear Solver Algorithm\n",
       " * Algorithm: Trust-region with dogleg and autoscaling\n",
       " * Starting Point: [0.5, 0.0]\n",
       " * Zero: [1.63739, 2.68103]\n",
       " * Inf-norm of residuals: 0.000000\n",
       " * Iterations: 6\n",
       " * Convergence: true\n",
       "   * |x - x'| < 0.0e+00: false\n",
       "   * |f(x)| < 1.0e-08: true\n",
       " * Function Calls (f): 7\n",
       " * Jacobian Calls (df/dx): 7"
      ]
     },
     "execution_count": 26,
     "metadata": {},
     "output_type": "execute_result"
    }
   ],
   "source": [
    "sol = NLsolve.nlsolve( NLsolve.DifferentiableMultivariateFunction(residual!, jacobian!), [+0.5, 0.0])"
   ]
  },
  {
   "cell_type": "markdown",
   "metadata": {},
   "source": [
    "### Dolang.jl\n",
    "\n",
    "Functions can also be created/differentiated with [Dolang.jl](https://github.com/EconForge/Dolang)"
   ]
  },
  {
   "cell_type": "code",
   "execution_count": 1,
   "metadata": {
    "collapsed": true
   },
   "outputs": [],
   "source": [
    "import Dolang\n",
    "using Dolang\n",
    "import Base"
   ]
  },
  {
   "cell_type": "code",
   "execution_count": 2,
   "metadata": {},
   "outputs": [
    {
     "data": {
      "text/html": [
       "$\\frac{\\text{sin}\\left(\\epsilon+\\text{sqrt}\\left(\\left(x\\right)^{2}+\\left(y\\right)^{2}\\right)\\right)}{\\epsilon+\\text{sqrt}\\left(\\left(x\\right)^{2}+\\left(y\\right)^{2}\\right)}$"
      ],
      "text/plain": [
       "HTML{String}(\"\\$\\\\frac{\\\\text{sin}\\\\left(\\\\epsilon+\\\\text{sqrt}\\\\left(\\\\left(x\\\\right)^{2}+\\\\left(y\\\\right)^{2}\\\\right)\\\\right)}{\\\\epsilon+\\\\text{sqrt}\\\\left(\\\\left(x\\\\right)^{2}+\\\\left(y\\\\right)^{2}\\\\right)}\\$\")"
      ]
     },
     "execution_count": 2,
     "metadata": {},
     "output_type": "execute_result"
    }
   ],
   "source": [
    "expr = parse(\"sin(epsilon + sqrt(x^2+y^2))/(epsilon + sqrt(x^2+y^2))\")\n",
    "expr2 = parse(\"y-x^2\")\n",
    "\n",
    "latex_string = string(\"\\$\", Dolang.latex(expr), \"\\$\")\n",
    "Base.HTML(latex_string)"
   ]
  },
  {
   "cell_type": "code",
   "execution_count": 3,
   "metadata": {},
   "outputs": [
    {
     "data": {
      "text/plain": [
       "(gg, gg!)"
      ]
     },
     "execution_count": 3,
     "metadata": {},
     "output_type": "execute_result"
    }
   ],
   "source": [
    "ff = Dolang.FunctionFactory([expr, expr2] , [:x,:y], [:epsilon]; funname=:gg)\n",
    "code = Dolang.make_function(ff)\n",
    "gg, gg! = eval(code)"
   ]
  },
  {
   "cell_type": "code",
   "execution_count": 4,
   "metadata": {},
   "outputs": [
    {
     "data": {
      "text/plain": [
       "2-element Array{Float64,1}:\n",
       " 0.998334\n",
       " 0.1     "
      ]
     },
     "execution_count": 4,
     "metadata": {},
     "output_type": "execute_result"
    }
   ],
   "source": [
    "gg([0.0,0.1], [0.00001])"
   ]
  },
  {
   "cell_type": "code",
   "execution_count": 5,
   "metadata": {},
   "outputs": [
    {
     "data": {
      "text/plain": [
       "2×2 Array{Float64,2}:\n",
       "  0.0  -0.0333033\n",
       " -0.0   1.0      "
      ]
     },
     "execution_count": 5,
     "metadata": {},
     "output_type": "execute_result"
    }
   ],
   "source": [
    "gg(Der{1},[0.0,0.1], [0.00001])"
   ]
  },
  {
   "cell_type": "code",
   "execution_count": null,
   "metadata": {
    "collapsed": true
   },
   "outputs": [],
   "source": []
  }
 ],
 "metadata": {
  "kernelspec": {
   "display_name": "Julia 0.6.0",
   "language": "julia",
   "name": "julia-0.6"
  },
  "language_info": {
   "file_extension": ".jl",
   "mimetype": "application/julia",
   "name": "julia",
   "version": "0.6.0"
  },
  "toc": {
   "nav_menu": {
    "height": "117px",
    "width": "252px"
   },
   "number_sections": true,
   "sideBar": true,
   "skip_h1_title": false,
   "toc_cell": false,
   "toc_position": {},
   "toc_section_display": "block",
   "toc_window_display": true
  }
 },
 "nbformat": 4,
 "nbformat_minor": 2
}
